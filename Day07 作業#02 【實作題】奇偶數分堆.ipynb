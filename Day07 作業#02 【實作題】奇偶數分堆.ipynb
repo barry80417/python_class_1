{
 "cells": [
  {
   "cell_type": "code",
   "execution_count": 26,
   "metadata": {},
   "outputs": [
    {
     "name": "stdout",
     "output_type": "stream",
     "text": [
      "[1, 3, 5, 7, 9, 0, 2, 4, 6, 8]\n"
     ]
    }
   ],
   "source": [
    "a = list(range(10))\n",
    "b = []\n",
    "c = []\n",
    "for i in a :\n",
    "    if i % 2 == 1:\n",
    "      b.append(i)\n",
    "    elif i % 2 == 0:\n",
    "      c.append(i)\n",
    "ans = b+c\n",
    "print(ans)"
   ]
  }
 ],
 "metadata": {
  "kernelspec": {
   "display_name": "Python 3",
   "language": "python",
   "name": "python3"
  },
  "language_info": {
   "codemirror_mode": {
    "name": "ipython",
    "version": 3
   },
   "file_extension": ".py",
   "mimetype": "text/x-python",
   "name": "python",
   "nbconvert_exporter": "python",
   "pygments_lexer": "ipython3",
   "version": "3.7.4"
  }
 },
 "nbformat": 4,
 "nbformat_minor": 2
}
