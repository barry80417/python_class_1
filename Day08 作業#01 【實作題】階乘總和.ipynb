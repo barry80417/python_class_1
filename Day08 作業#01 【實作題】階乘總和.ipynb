{
 "cells": [
  {
   "cell_type": "code",
   "execution_count": 29,
   "metadata": {},
   "outputs": [
    {
     "name": "stdout",
     "output_type": "stream",
     "text": [
      "請輸入一個數字以計算階乘3\n",
      "9\n"
     ]
    }
   ],
   "source": [
    "a = int(input('請輸入一個數字以計算階乘'))\n",
    "b = list(range(1,a+1))\n",
    "total = 1\n",
    "ans = 0\n",
    "for i in b:\n",
    "    total *= i\n",
    "    ans += total\n",
    "print(ans)\n",
    "    "
   ]
  }
 ],
 "metadata": {
  "kernelspec": {
   "display_name": "Python 3",
   "language": "python",
   "name": "python3"
  },
  "language_info": {
   "codemirror_mode": {
    "name": "ipython",
    "version": 3
   },
   "file_extension": ".py",
   "mimetype": "text/x-python",
   "name": "python",
   "nbconvert_exporter": "python",
   "pygments_lexer": "ipython3",
   "version": "3.7.4"
  }
 },
 "nbformat": 4,
 "nbformat_minor": 2
}
